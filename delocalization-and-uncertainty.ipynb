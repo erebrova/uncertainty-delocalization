{
 "cells": [
  {
   "cell_type": "code",
   "execution_count": null,
   "id": "62efe52c",
   "metadata": {},
   "outputs": [],
   "source": [
    "import networkx as nx\n",
    "import numpy as np\n",
    "import seaborn as sb\n",
    "import scipy\n",
    "import matplotlib.pyplot as plt\n",
    "import cvxpy as cp"
   ]
  },
  {
   "cell_type": "markdown",
   "id": "9e223376",
   "metadata": {},
   "source": [
    "# Methods"
   ]
  },
  {
   "cell_type": "code",
   "execution_count": 2,
   "id": "4f4b8041",
   "metadata": {},
   "outputs": [],
   "source": [
    "def sup_lower_approx(VV, n):\n",
    "    return np.ceil(1/np.max(VV))"
   ]
  },
  {
   "cell_type": "code",
   "execution_count": 3,
   "id": "83c949cb",
   "metadata": {},
   "outputs": [],
   "source": [
    "def lower_approx(VV, n):\n",
    "    vflat = VV.reshape(n*n)\n",
    "    res = 0\n",
    "    count = 0\n",
    "    while res < 1:\n",
    "        count += 1\n",
    "        res += vflat[np.argsort(vflat)[-count]]\n",
    "    return count"
   ]
  },
  {
   "cell_type": "code",
   "execution_count": 4,
   "id": "e68549da",
   "metadata": {},
   "outputs": [],
   "source": [
    "def linear_approx(V2, n):\n",
    "    x = cp.Variable(n)\n",
    "    y = cp.Variable(n)\n",
    "    u = cp.Variable((n,n))\n",
    "\n",
    "    c1 = cp.sum(cp.multiply(V2, u))\n",
    "    cx = cp.reshape(x,(n,1)) @ cp.reshape(np.ones([1,n]),(1,n))\n",
    "    cy = cp.reshape(np.ones([1,n]),(n,1)) @ cp.reshape(y,(1,n))\n",
    "\n",
    "    constraints = [cp.vec(u) >= 0, cp.vec(u) <= 1, 0 <= x, x <= 1, 0 <= y, y <= 1, c1 >= 1, u <= cx, u <= cy, cx + cy - 1  <= u]\n",
    "    prob = cp.Problem(cp.Minimize(cp.sum(u)),constraints)\n",
    "    return np.ceil(prob.solve())"
   ]
  },
  {
   "cell_type": "code",
   "execution_count": 5,
   "id": "274791c0",
   "metadata": {},
   "outputs": [],
   "source": [
    "def sdp_approx(VV, n):\n",
    "    x = cp.Variable(2*n)\n",
    "    u = cp.Variable((2*n,2*n))\n",
    "    \n",
    "    Z = np.zeros((n,n))\n",
    "    O = np.ones((n,n))\n",
    "    Vsym = np.concatenate((np.concatenate((Z,0.5*VV), axis =1), np.concatenate((0.5*VV.T, Z), axis =1)))\n",
    "    Idsym = np.concatenate((np.concatenate((Z,0.5*O), axis =1), np.concatenate((0.5*O, Z), axis =1)))\n",
    "\n",
    "    c1 = cp.sum(cp.multiply(Vsym, u))\n",
    "    cx = cp.reshape(x,(2*n,1)) @ cp.reshape(np.ones([1,2*n]),(1,2*n))\n",
    "    cy = cp.reshape(np.ones([1,2*n]),(2*n,1)) @ cp.reshape(x,(1,2*n))\n",
    "    ctrace = cp.trace(u - cp.diag(x))\n",
    "    \n",
    "    A11= cp.reshape(1, (1, 1))\n",
    "    A12= cp.reshape(x, (1, 2*n))\n",
    "    A1 = cp.hstack([A11, A12])\n",
    "\n",
    "    A21= cp.reshape(x, (2*n,1))\n",
    "    A22= u\n",
    "    A2 = cp.hstack([A21, A22])\n",
    "    M = cp.vstack([A1, A2])\n",
    "    \n",
    "\n",
    "    constraints = [cp.vec(u) >= 0, cp.vec(u) <= 1, 0 <= x, x <= 1, c1 >= 1, u <= cx, u <= cy, cx + cy - 1  <= u, ctrace == 0, M >> 0]\n",
    "    prob = cp.Problem(cp.Minimize(cp.sum(cp.multiply(Idsym, u))), constraints)\n",
    "    return np.ceil(prob.solve())"
   ]
  },
  {
   "cell_type": "code",
   "execution_count": 6,
   "id": "26c6ed7f",
   "metadata": {},
   "outputs": [],
   "source": [
    "def upper_bound_3(VV, n):\n",
    "    res = []\n",
    "    for i in range(n):\n",
    "        print('working...', i)\n",
    "        for j in range(i+1,n):\n",
    "            for t in range(j+1, n):\n",
    "                ind_subset = [i,j,t]\n",
    "                VV_tr = VV[ind_subset, :]\n",
    "                sums = np.sum(VV_tr, axis = 0)\n",
    "                argsorted_sums = np.argsort(sums)\n",
    "                cumsum = 0\n",
    "                count = 0\n",
    "                while cumsum < 1:\n",
    "                    count += 1\n",
    "                    cumsum += sums[argsorted_sums[-count]]\n",
    "                res.append(count*3)\n",
    "                VV_tr = VV[:,ind_subset]\n",
    "                sums = np.sum(VV_tr, axis = 1)\n",
    "                argsorted_sums = np.argsort(sums)\n",
    "                cumsum = 0\n",
    "                count = 0\n",
    "                while cumsum < 1:\n",
    "                    count += 1\n",
    "                    cumsum += sums[argsorted_sums[-count]]\n",
    "                res.append(count*3)\n",
    "    return np.min(res)"
   ]
  },
  {
   "cell_type": "code",
   "execution_count": 7,
   "id": "55a58ceb",
   "metadata": {},
   "outputs": [],
   "source": [
    "def upper_bound_2(VV, n):\n",
    "    res = []\n",
    "    for i in range(n):\n",
    "        for j in range(i+1,n):\n",
    "            ind_subset = [i,j]\n",
    "            VV_tr = VV[ind_subset, :]\n",
    "            sums = np.sum(VV_tr, axis = 0)\n",
    "            argsorted_sums = np.argsort(sums)\n",
    "            cumsum = 0\n",
    "            count = 0\n",
    "            while cumsum < 1:\n",
    "                count += 1\n",
    "                cumsum += sums[argsorted_sums[-count]]\n",
    "            res.append(count*2)\n",
    "            VV_tr = VV[:,ind_subset]\n",
    "            sums = np.sum(VV_tr, axis = 1)\n",
    "            argsorted_sums = np.argsort(sums)\n",
    "            cumsum = 0\n",
    "            count = 0\n",
    "            while cumsum < 1:\n",
    "                count += 1\n",
    "                cumsum += sums[argsorted_sums[-count]]\n",
    "            res.append(count*2)\n",
    "    return np.min(res)"
   ]
  },
  {
   "cell_type": "markdown",
   "id": "ac073001",
   "metadata": {},
   "source": [
    "# Models"
   ]
  },
  {
   "cell_type": "code",
   "execution_count": 9,
   "id": "d75d15ae",
   "metadata": {},
   "outputs": [],
   "source": [
    "def random_regular(n, d):\n",
    "    g = nx.random_regular_graph(d, n, seed=None)\n",
    "    matrix = nx.to_numpy_matrix(g)\n",
    "    u, V = np.linalg.eigh(matrix)\n",
    "    VV = np.array(np.multiply(V, V))\n",
    "    return VV"
   ]
  },
  {
   "cell_type": "code",
   "execution_count": 8,
   "id": "8cae1a5b",
   "metadata": {},
   "outputs": [],
   "source": [
    "def random_regular_modified(n, d, k1, k2):\n",
    "    g = nx.random_regular_graph(d, n, seed=None)\n",
    "    mat = nx.to_numpy_matrix(g)\n",
    "    mat_modified = modify_adjacency(mat.copy(), n, k1, k2)\n",
    "    u, V = np.linalg.eigh(mat_modified)\n",
    "    VV = np.array(np.multiply(V, V))\n",
    "    return VV"
   ]
  },
  {
   "cell_type": "code",
   "execution_count": null,
   "id": "afe31994",
   "metadata": {},
   "outputs": [],
   "source": [
    "saves = []\n",
    "for n in range(25,475,25):\n",
    "    VV = random_regular(n, 2*int(np.ceil(np.sqrt(n))))\n",
    "    saves.append(VV)\n",
    "with open('test-adjacencies1.pkl','wb') as f:\n",
    "     pickle.dump(saves, f)"
   ]
  },
  {
   "cell_type": "code",
   "execution_count": null,
   "id": "e8ad8934",
   "metadata": {},
   "outputs": [],
   "source": [
    "matrices = saves\n",
    "#matrices = pickle.load(open(\"test-adjacencies.pkl\", \"rb\"))\n",
    "tries = num_tries"
   ]
  },
  {
   "cell_type": "code",
   "execution_count": null,
   "id": "794d579d",
   "metadata": {},
   "outputs": [],
   "source": [
    "tries = num_tries\n",
    "\n",
    "linear_lowers = []\n",
    "sdp_lowers = []\n",
    "greedy_lowers = []\n",
    "sup_lowers = []\n",
    "two_uppers = []\n",
    "three_uppers = []\n",
    "\n",
    "for _ in range(tries):\n",
    "    ll = []\n",
    "    sl = []\n",
    "    gl = []\n",
    "    sdpl = []\n",
    "    tu = []\n",
    "    tru = []\n",
    "    for i in range(13, 14):\n",
    "        VV = matrices[i]\n",
    "        n = VV.shape[0]\n",
    "        print(n)\n",
    "        sdpl.append(sdp_approx(VV, n))\n",
    "        print(sdpl)\n",
    "        print('sdp done')\n",
    "    \n",
    "    \n",
    "        ll.append(linear_approx(VV, n))\n",
    "        print('linear done')\n",
    "        gl.append(lower_approx(VV, n))\n",
    "        print('greedy done')\n",
    "\n",
    "        sl.append(sup_lower_approx(VV, n))\n",
    "        print('sup done')\n",
    "\n",
    "\n",
    "        x = upper_bound_2(VV, n)\n",
    "        tu.append(x)\n",
    "        print('two upper done')\n",
    "        y = upper_bound_3(VV, n)\n",
    "        print('three upper done')\n",
    "        tru.append(y)\n",
    "        \n",
    "    print(sdpl)\n",
    "    sdp_lowers.append(sdpl)\n",
    "    print(ll)\n",
    "    linear_lowers.append(ll)\n",
    "    print(gl)\n",
    "    greedy_lowers.append(gl)\n",
    "    print(sl)\n",
    "    sup_lowers.append(sl)\n",
    "    print(tu)\n",
    "    two_uppers.append(tu)\n",
    "    print(tru)\n",
    "    three_uppers.append(tru)\n",
    "        \n"
   ]
  }
 ],
 "metadata": {
  "kernelspec": {
   "display_name": "Python 3 (ipykernel)",
   "language": "python",
   "name": "python3"
  },
  "language_info": {
   "codemirror_mode": {
    "name": "ipython",
    "version": 3
   },
   "file_extension": ".py",
   "mimetype": "text/x-python",
   "name": "python",
   "nbconvert_exporter": "python",
   "pygments_lexer": "ipython3",
   "version": "3.10.9"
  }
 },
 "nbformat": 4,
 "nbformat_minor": 5
}
